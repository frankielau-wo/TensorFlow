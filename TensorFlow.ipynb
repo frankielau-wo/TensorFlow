{
 "cells": [
  {
   "cell_type": "code",
   "execution_count": 1,
   "metadata": {},
   "outputs": [
    {
     "name": "stdout",
     "output_type": "stream",
     "text": [
      "Wall time: 4.22 s\n"
     ]
    }
   ],
   "source": [
    "%%time\n",
    "import pandas as pd\n",
    "import tensorflow as tf\n",
    "import numpy as np\n",
    "#import matplotlib.pyplot as plt\n",
    "#from numpy import loadtxt\n",
    "from keras.utils import np_utils\n",
    "#from sklearn.preprocessing import LabelEncoder\n",
    "\n",
    "from keras.callbacks import EarlyStopping\n",
    "\n",
    "from gensim.models.doc2vec import Doc2Vec\n",
    "from nltk.tokenize import word_tokenize"
   ]
  },
  {
   "cell_type": "code",
   "execution_count": 2,
   "metadata": {},
   "outputs": [
    {
     "name": "stdout",
     "output_type": "stream",
     "text": [
      "Wall time: 10.1 s\n"
     ]
    }
   ],
   "source": [
    "%%time\n",
    "df = pd.read_excel(\"BQ Analysis v1_1.xlsx\", \"Project BQ\")"
   ]
  },
  {
   "cell_type": "code",
   "execution_count": 3,
   "metadata": {},
   "outputs": [
    {
     "name": "stdout",
     "output_type": "stream",
     "text": [
      "Wall time: 353 ms\n"
     ]
    }
   ],
   "source": [
    "%%time\n",
    "df = df.astype(str)\n",
    "df[\"PREPROCESS_TEXT\"] = df[\"BQ_TRADE\"] + \",\" + df[\"BQ_HEADING\"] + \",\" + df[\"BQ_SUB_HEADING\"] + \",\" + df[\"BQ_ITEM_HEADING\"] + \",\" + df[\"BQ_ITEM_DESCRIPTION\"] #+ \",\" + df[\"AC_TRADE_CODE\"]\n",
    "#df['RESULT'] = \"\"\n",
    "#training_df = df.loc[df['CONTRACT_CODE'] == \"FL49\"].copy() // not enough training data?\n",
    "df = df[df['AC_TRADE_CODE'] != \"DA\"]\n",
    "df = df[df['AC_TRADE_CODE'] != \"IP\"]\n",
    "df = df[df['AC_TRADE_CODE'] != \"SS\"]\n",
    "df = df[df['AC_TRADE_CODE'] != \"EL\"]\n",
    "df = df[df['AC_TRADE_CODE'] != \"SO\"]\n",
    "df = df[df['AC_TRADE_CODE'] != \"AS\"]\n",
    "\n",
    "\n",
    "df[\"PREPROCESS_TEXT\"] = list(map(lambda x: x.lower(), list(df[\"PREPROCESS_TEXT\"])))\n",
    "\n",
    "\n",
    "\n"
   ]
  },
  {
   "cell_type": "code",
   "execution_count": 4,
   "metadata": {},
   "outputs": [],
   "source": [
    "class_names = ['PS',\n",
    "'ST',\n",
    "'SM',\n",
    "'EL',\n",
    "'PL',\n",
    "'BS',\n",
    "'DR',\n",
    "'CJ',\n",
    "'PA',\n",
    "'AR',\n",
    "'PR',\n",
    "'SO',\n",
    "'GL',\n",
    "'IF',\n",
    "'DW',\n",
    "'EX',\n",
    "'IR',\n",
    "'FD',\n",
    "'AP',\n",
    "'SU',\n",
    "'FF',\n",
    "'SG',\n",
    "'AS',\n",
    "'EF',\n",
    "'BR',\n",
    "'SS',\n",
    "'DA',\n",
    "'IP'\n",
    "]\n",
    "\n",
    "\n",
    "\n"
   ]
  },
  {
   "cell_type": "code",
   "execution_count": 5,
   "metadata": {},
   "outputs": [],
   "source": [
    "training_df = df[df['CONTRACT_CODE'] != \"QHP3\"].copy()\n",
    "\n",
    "\n",
    "training_df[\"AC_TRADE_CODE_INDEX\"] = list(map(lambda x: class_names.index(x), list(training_df.AC_TRADE_CODE)))\n",
    "#training_df[\"AC_TRADE_CODE\"].value_counts()\n",
    "#training_df[\"AC_TRADE_CODE_INDEX\"].value_counts()"
   ]
  },
  {
   "cell_type": "code",
   "execution_count": 6,
   "metadata": {},
   "outputs": [
    {
     "data": {
      "text/plain": [
       "0     2788\n",
       "1     2712\n",
       "2     2258\n",
       "4      853\n",
       "6      479\n",
       "8      427\n",
       "7      368\n",
       "9      215\n",
       "12      95\n",
       "10      58\n",
       "24      35\n",
       "16      24\n",
       "15      10\n",
       "Name: AC_TRADE_CODE_INDEX, dtype: int64"
      ]
     },
     "execution_count": 6,
     "metadata": {},
     "output_type": "execute_result"
    }
   ],
   "source": [
    "test_df = df[df['CONTRACT_CODE'] == \"QHP3\"].copy()\n",
    "test_df[\"AC_TRADE_CODE_INDEX\"] = list(map(lambda x: class_names.index(x), list(test_df.AC_TRADE_CODE)))\n",
    "test_df[\"AC_TRADE_CODE_INDEX\"].value_counts()"
   ]
  },
  {
   "cell_type": "code",
   "execution_count": 7,
   "metadata": {},
   "outputs": [],
   "source": [
    "# print(len(df[\"AC_TRADE_CODE\"]))\n",
    "# label_encoder = LabelEncoder()\n",
    "# label_encoder.fit(df[\"AC_TRADE_CODE\"])\n",
    "# training_label = np_utils.to_categorical((label_encoder.transform(df[\"AC_TRADE_CODE\"])))\n",
    "\n",
    "# print(len(training_label))"
   ]
  },
  {
   "cell_type": "code",
   "execution_count": 8,
   "metadata": {},
   "outputs": [],
   "source": [
    "# %%time\n",
    "# tokenized_doc = []\n",
    "# for d in training_df[\"PREPROCESS_TEXT\"]:\n",
    "#     tokenized_doc.append(word_tokenize(d))\n",
    "# tokenized_doc\n",
    "# tagged_data = [TaggedDocument(d, [i]) for i, d in enumerate(tokenized_doc)]\n",
    "# len(tagged_data)"
   ]
  },
  {
   "cell_type": "code",
   "execution_count": 9,
   "metadata": {},
   "outputs": [
    {
     "name": "stdout",
     "output_type": "stream",
     "text": [
      "Wall time: 247 ms\n"
     ]
    }
   ],
   "source": [
    "%%time\n",
    "model= Doc2Vec.load(\"test_doc2vec.model\")\n",
    "#training_text = model.wv.vectors\n",
    "#print(len(training_text))"
   ]
  },
  {
   "cell_type": "code",
   "execution_count": null,
   "metadata": {},
   "outputs": [],
   "source": []
  },
  {
   "cell_type": "code",
   "execution_count": 10,
   "metadata": {
    "scrolled": true
   },
   "outputs": [
    {
     "name": "stdout",
     "output_type": "stream",
     "text": [
      "31075\n",
      "[-0.06537517 -0.09960778 -0.42488965 -0.6178617  -0.9215546   0.27969044\n",
      " -0.53391707 -0.909513   -1.4888742  -0.6120924  -0.46929762  0.32160908\n",
      " -0.10723372 -1.4194572   0.6695041   0.896733   -0.16387694  0.789303\n",
      "  0.82672787  1.0911089 ]\n",
      "10322\n",
      "[ 4.89012420e-01  1.28465796e+00 -1.17283487e+00  5.57047546e-01\n",
      "  4.89087433e-01 -1.47226942e+00 -1.04352735e-01 -1.04560982e-03\n",
      " -3.86845171e-01 -1.66518539e-01  9.99648511e-01  6.59418464e-01\n",
      "  1.74135447e+00  1.31072268e-01  3.76470447e-01 -6.16819620e-01\n",
      " -7.10797906e-01  1.03964150e+00 -3.04088086e-01  2.30819941e+00]\n",
      "Wall time: 6min\n"
     ]
    }
   ],
   "source": [
    "%%time\n",
    "# test_data = word_tokenize(df[\"PREPROCESS_TEXT\"])\n",
    "# v1 = model.infer_vector(test_data)\n",
    "# print(\"V1_infer\", v1)\n",
    "\n",
    "training_text = []\n",
    "for index, row in training_df.iterrows():\n",
    "    training_text.append(model.infer_vector(word_tokenize(row[\"PREPROCESS_TEXT\"])))\n",
    "\n",
    "training_text = np.asarray(training_text)  \n",
    "print(len(training_text))\n",
    "print(training_text[0])\n",
    "\n",
    "\n",
    "\n",
    "\n",
    "\n",
    "test_text = []\n",
    "for index, row in test_df.iterrows():\n",
    "    #print(model.infer_vector(word_tokenize(row[\"PREPROCESS_TEXT\"])))\n",
    "    test_text.append(model.infer_vector(word_tokenize(row[\"PREPROCESS_TEXT\"])))\n",
    "\n",
    "test_text = np.asarray(test_text)  \n",
    "print(len(test_text))\n",
    "print(test_text[0])\n"
   ]
  },
  {
   "cell_type": "code",
   "execution_count": 11,
   "metadata": {},
   "outputs": [],
   "source": [
    "training_label = np.asarray(training_df[\"AC_TRADE_CODE_INDEX\"])  \n",
    "test_label = np.asarray(test_df[\"AC_TRADE_CODE_INDEX\"])  "
   ]
  },
  {
   "cell_type": "code",
   "execution_count": 12,
   "metadata": {},
   "outputs": [
    {
     "data": {
      "text/plain": [
       "((31075, 20), (31075,))"
      ]
     },
     "execution_count": 12,
     "metadata": {},
     "output_type": "execute_result"
    }
   ],
   "source": [
    "training_text.shape, training_label.shape\n"
   ]
  },
  {
   "cell_type": "code",
   "execution_count": 13,
   "metadata": {},
   "outputs": [
    {
     "name": "stdout",
     "output_type": "stream",
     "text": [
      "Epoch 1/20\n",
      "972/972 [==============================] - 1s 803us/step - loss: 1.4353 - accuracy: 0.6316\n",
      "WARNING:tensorflow:Early stopping conditioned on metric `val_loss` which is not available. Available metrics are: loss,accuracy\n",
      "Epoch 2/20\n",
      "972/972 [==============================] - 1s 804us/step - loss: 0.5830 - accuracy: 0.8236\n",
      "WARNING:tensorflow:Early stopping conditioned on metric `val_loss` which is not available. Available metrics are: loss,accuracy\n",
      "Epoch 3/20\n",
      "972/972 [==============================] - 1s 803us/step - loss: 0.5033 - accuracy: 0.8444\n",
      "WARNING:tensorflow:Early stopping conditioned on metric `val_loss` which is not available. Available metrics are: loss,accuracy\n",
      "Epoch 4/20\n",
      "972/972 [==============================] - 1s 817us/step - loss: 0.4505 - accuracy: 0.86371s - l\n",
      "WARNING:tensorflow:Early stopping conditioned on metric `val_loss` which is not available. Available metrics are: loss,accuracy\n",
      "Epoch 5/20\n",
      "972/972 [==============================] - 1s 791us/step - loss: 0.4178 - accuracy: 0.8734\n",
      "WARNING:tensorflow:Early stopping conditioned on metric `val_loss` which is not available. Available metrics are: loss,accuracy\n",
      "Epoch 6/20\n",
      "972/972 [==============================] - 1s 774us/step - loss: 0.3949 - accuracy: 0.8800\n",
      "WARNING:tensorflow:Early stopping conditioned on metric `val_loss` which is not available. Available metrics are: loss,accuracy\n",
      "Epoch 7/20\n",
      "972/972 [==============================] - 1s 842us/step - loss: 0.3655 - accuracy: 0.8887\n",
      "WARNING:tensorflow:Early stopping conditioned on metric `val_loss` which is not available. Available metrics are: loss,accuracy\n",
      "Epoch 8/20\n",
      "972/972 [==============================] - 1s 829us/step - loss: 0.3416 - accuracy: 0.8964\n",
      "WARNING:tensorflow:Early stopping conditioned on metric `val_loss` which is not available. Available metrics are: loss,accuracy\n",
      "Epoch 9/20\n",
      "972/972 [==============================] - 1s 781us/step - loss: 0.3191 - accuracy: 0.9035\n",
      "WARNING:tensorflow:Early stopping conditioned on metric `val_loss` which is not available. Available metrics are: loss,accuracy\n",
      "Epoch 10/20\n",
      "972/972 [==============================] - 1s 781us/step - loss: 0.3109 - accuracy: 0.9061\n",
      "WARNING:tensorflow:Early stopping conditioned on metric `val_loss` which is not available. Available metrics are: loss,accuracy\n",
      "Epoch 11/20\n",
      "972/972 [==============================] - 1s 781us/step - loss: 0.2951 - accuracy: 0.9109\n",
      "WARNING:tensorflow:Early stopping conditioned on metric `val_loss` which is not available. Available metrics are: loss,accuracy\n",
      "Epoch 12/20\n",
      "972/972 [==============================] - 1s 780us/step - loss: 0.2912 - accuracy: 0.9098\n",
      "WARNING:tensorflow:Early stopping conditioned on metric `val_loss` which is not available. Available metrics are: loss,accuracy\n",
      "Epoch 13/20\n",
      "972/972 [==============================] - 1s 781us/step - loss: 0.2814 - accuracy: 0.9125\n",
      "WARNING:tensorflow:Early stopping conditioned on metric `val_loss` which is not available. Available metrics are: loss,accuracy\n",
      "Epoch 14/20\n",
      "972/972 [==============================] - 1s 786us/step - loss: 0.2761 - accuracy: 0.9155\n",
      "WARNING:tensorflow:Early stopping conditioned on metric `val_loss` which is not available. Available metrics are: loss,accuracy\n",
      "Epoch 15/20\n",
      "972/972 [==============================] - 1s 778us/step - loss: 0.2654 - accuracy: 0.9198\n",
      "WARNING:tensorflow:Early stopping conditioned on metric `val_loss` which is not available. Available metrics are: loss,accuracy\n",
      "Epoch 16/20\n",
      "972/972 [==============================] - 1s 803us/step - loss: 0.2599 - accuracy: 0.9217\n",
      "WARNING:tensorflow:Early stopping conditioned on metric `val_loss` which is not available. Available metrics are: loss,accuracy\n",
      "Epoch 17/20\n",
      "972/972 [==============================] - 1s 810us/step - loss: 0.2448 - accuracy: 0.9269\n",
      "WARNING:tensorflow:Early stopping conditioned on metric `val_loss` which is not available. Available metrics are: loss,accuracy\n",
      "Epoch 18/20\n",
      "972/972 [==============================] - 1s 838us/step - loss: 0.2310 - accuracy: 0.9325\n",
      "WARNING:tensorflow:Early stopping conditioned on metric `val_loss` which is not available. Available metrics are: loss,accuracy\n",
      "Epoch 19/20\n",
      "972/972 [==============================] - 1s 807us/step - loss: 0.2324 - accuracy: 0.9287\n",
      "WARNING:tensorflow:Early stopping conditioned on metric `val_loss` which is not available. Available metrics are: loss,accuracy\n",
      "Epoch 20/20\n",
      "972/972 [==============================] - 1s 791us/step - loss: 0.2292 - accuracy: 0.9287\n",
      "WARNING:tensorflow:Early stopping conditioned on metric `val_loss` which is not available. Available metrics are: loss,accuracy\n",
      "Wall time: 16.2 s\n"
     ]
    },
    {
     "data": {
      "text/plain": [
       "<tensorflow.python.keras.callbacks.History at 0x2adb49fe2b0>"
      ]
     },
     "execution_count": 13,
     "metadata": {},
     "output_type": "execute_result"
    }
   ],
   "source": [
    "\n",
    "%%time\n",
    "\n",
    "\n",
    "early_stopping = EarlyStopping(monitor='val_loss', patience=50, verbose=2)\n",
    "model = tf.keras.Sequential([\n",
    "    tf.keras.layers.Flatten(input_shape=(20, )),\n",
    "    tf.keras.layers.Dense(128, activation='relu'),\n",
    "    tf.keras.layers.Dense(50)\n",
    "])\n",
    "model.compile(optimizer='adam',\n",
    "              loss=tf.keras.losses.SparseCategoricalCrossentropy(from_logits=True),\n",
    "              metrics=['accuracy'])\n",
    "model.fit(training_text, training_label, epochs=20, callbacks=[early_stopping])\n"
   ]
  },
  {
   "cell_type": "code",
   "execution_count": 14,
   "metadata": {},
   "outputs": [
    {
     "name": "stdout",
     "output_type": "stream",
     "text": [
      "323/323 - 0s - loss: 0.3269 - accuracy: 0.9133\n",
      "\n",
      "Test accuracy: 0.9132919907569885\n"
     ]
    }
   ],
   "source": [
    "test_loss, test_acc = model.evaluate(test_text,  test_label, verbose=2)\n",
    "\n",
    "print('\\nTest accuracy:', test_acc)"
   ]
  },
  {
   "cell_type": "code",
   "execution_count": null,
   "metadata": {},
   "outputs": [],
   "source": []
  },
  {
   "cell_type": "code",
   "execution_count": 15,
   "metadata": {},
   "outputs": [],
   "source": [
    "probability_model = tf.keras.Sequential([model, tf.keras.layers.Softmax()])\n",
    "predictions = probability_model.predict(test_text)"
   ]
  },
  {
   "cell_type": "code",
   "execution_count": 16,
   "metadata": {
    "scrolled": true
   },
   "outputs": [
    {
     "name": "stderr",
     "output_type": "stream",
     "text": [
      "<ipython-input-16-7c42d552e199>:4: SettingWithCopyWarning: \n",
      "A value is trying to be set on a copy of a slice from a DataFrame\n",
      "\n",
      "See the caveats in the documentation: https://pandas.pydata.org/pandas-docs/stable/user_guide/indexing.html#returning-a-view-versus-a-copy\n",
      "  test_df[\"PREDICT_RESULT\"][index] = np.argmax(predictions[i])\n"
     ]
    }
   ],
   "source": [
    "\n",
    "i = 0\n",
    "test_df[\"PREDICT_RESULT\"] = 0\n",
    "for index, row in test_df.iterrows():\n",
    "    test_df[\"PREDICT_RESULT\"][index] = np.argmax(predictions[i])\n",
    "    i = i + 1\n",
    "\n",
    "\n",
    "test_df[\"COMPARE\"] = np.where(test_df[\"AC_TRADE_CODE_INDEX\"] == test_df[\"PREDICT_RESULT\"], True, False)\n"
   ]
  },
  {
   "cell_type": "code",
   "execution_count": 17,
   "metadata": {},
   "outputs": [
    {
     "data": {
      "text/plain": [
       "True     9427\n",
       "False     895\n",
       "Name: COMPARE, dtype: int64"
      ]
     },
     "execution_count": 17,
     "metadata": {},
     "output_type": "execute_result"
    }
   ],
   "source": [
    "test_df['COMPARE'].value_counts()"
   ]
  }
 ],
 "metadata": {
  "kernelspec": {
   "display_name": "Python 3",
   "language": "python",
   "name": "python3"
  },
  "language_info": {
   "codemirror_mode": {
    "name": "ipython",
    "version": 3
   },
   "file_extension": ".py",
   "mimetype": "text/x-python",
   "name": "python",
   "nbconvert_exporter": "python",
   "pygments_lexer": "ipython3",
   "version": "3.8.3"
  }
 },
 "nbformat": 4,
 "nbformat_minor": 4
}
